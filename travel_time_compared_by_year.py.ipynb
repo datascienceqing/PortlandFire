{
 "cells": [
  {
   "cell_type": "code",
   "execution_count": 1,
   "metadata": {
    "collapsed": false
   },
   "outputs": [],
   "source": [
    "import os \n",
    "import psycopg2\n",
    "import matplotlib.pyplot as plt\n",
    "import numpy as np\n",
    "import pandas as pd\n",
    "import seaborn as sns\n",
    "%matplotlib inline"
   ]
  },
  {
   "cell_type": "code",
   "execution_count": 2,
   "metadata": {
    "collapsed": false
   },
   "outputs": [
    {
     "data": {
      "text/plain": [
       "True"
      ]
     },
     "execution_count": 2,
     "metadata": {},
     "output_type": "execute_result"
    }
   ],
   "source": [
    "##Load variables \n",
    "from dotenv import load_dotenv, find_dotenv\n",
    "load_dotenv(find_dotenv('fire_var.env'))"
   ]
  },
  {
   "cell_type": "code",
   "execution_count": 3,
   "metadata": {
    "collapsed": false
   },
   "outputs": [],
   "source": [
    "# connect to postgres\n",
    "\n",
    "try:\n",
    "    conn = psycopg2.connect(database=os.environ.get(\"erdatabase\"), user=os.environ.get(\"eruser\"), \n",
    "                            password = os.environ.get(\"erpassword\"), \n",
    "                            host=os.environ.get(\"erhost\"), \n",
    "                            port=os.environ.get('port'))\n",
    "    \n",
    "except psycopg2.Error as e:\n",
    "    print(\"I am unable to connect to the database\")\n",
    "    print(e)\n",
    "    print(e.pgcode)\n",
    "    print(e.pgerror)\n",
    "    print(traceback.format_exc())"
   ]
  },
  {
   "cell_type": "code",
   "execution_count": 4,
   "metadata": {
    "collapsed": true
   },
   "outputs": [],
   "source": [
    "def pgquery(QUERY): \n",
    "    '''\n",
    "    takes SQL query string, opens a cursor, and executes query in psql\n",
    "    '''\n",
    "    \n",
    "    cur = conn.cursor()\n",
    "    \n",
    "    try:\n",
    "        print(\"SQL QUERY = \"+QUERY)\n",
    "        cur.execute(\"SET statement_timeout = 0\")\n",
    "        cur.execute(QUERY)\n",
    "        # Extract the column names and insert them in header\n",
    "        col_names = []\n",
    "        for elt in cur.description:\n",
    "            col_names.append(elt[0])    \n",
    "    \n",
    "        D = cur.fetchall() #convert query result to list\n",
    "        #pprint(D)\n",
    "        #conn.close()\n",
    "        # Create the dataframe, passing in the list of col_names extracted from the description\n",
    "        return pd.DataFrame(D, columns=col_names)\n",
    "\n",
    "    except Exception as e:\n",
    "        print(e.pgerror)\n",
    "\n"
   ]
  },
  {
   "cell_type": "code",
   "execution_count": 5,
   "metadata": {
    "collapsed": true
   },
   "outputs": [],
   "source": [
    "##Pull data from the EC2 instance, display different timepoints in columns\n",
    "def getTimeDataset(timedesc_dict):\n",
    "    RESPONSE_TIME_QUERY='''\n",
    "                        SELECT  I.incident_id, R.responderunit_id, T.responder_id,\n",
    "                                T.timedesc_id, I.typenaturecode_id, I.fireblock, I.fmarespcomp,\n",
    "                                T.realtime\n",
    "                        FROM incident as I\n",
    "                        INNER JOIN inctimes as T\n",
    "                                ON I.incident_id = T.incident_id\n",
    "                        INNER JOIN responder as R\n",
    "                                ON ( I.incident_id = R.incident_id AND T.responder_id = R.responder_id)\n",
    "                        WHERE T.timedesc_id IN ??TIMEDESC_IDS??\n",
    "                                AND T.responder_id IS NOT NULL;\n",
    "                        '''\n",
    "    \n",
    "    # add the timedesc_ids that we want to the query\n",
    "    timedesc_ids = str(tuple(timedesc_dict.keys())).replace(\"'\", \"\")\n",
    "    RESPONSE_TIME_QUERY = RESPONSE_TIME_QUERY.replace(\"??TIMEDESC_IDS??\", str(timedesc_ids))\n",
    "    \n",
    "    # execute the query: **this takes a pretty long time**\n",
    "    df = pgquery(RESPONSE_TIME_QUERY)\n",
    "    \n",
    "    # now reshape the data so that we can do analysis more easily. \n",
    "    table = df.pivot_table(index=['incident_id', 'responderunit_id', 'typenaturecode_id',\n",
    "                                  'fireblock', 'fmarespcomp'],\n",
    "                      columns='timedesc_id', values='realtime', aggfunc='first')\n",
    "    table.rename(columns=timedesc_dict, inplace=True)\n",
    "    \n",
    "    return table"
   ]
  },
  {
   "cell_type": "code",
   "execution_count": 6,
   "metadata": {
    "collapsed": false,
    "scrolled": true
   },
   "outputs": [
    {
     "name": "stdout",
     "output_type": "stream",
     "text": [
      "SQL QUERY = \n",
      "                        SELECT  I.incident_id, R.responderunit_id, T.responder_id,\n",
      "                                T.timedesc_id, I.typenaturecode_id, I.fireblock, I.fmarespcomp,\n",
      "                                T.realtime\n",
      "                        FROM incident as I\n",
      "                        INNER JOIN inctimes as T\n",
      "                                ON I.incident_id = T.incident_id\n",
      "                        INNER JOIN responder as R\n",
      "                                ON ( I.incident_id = R.incident_id AND T.responder_id = R.responder_id)\n",
      "                        WHERE T.timedesc_id IN (9, 3, 12, 5)\n",
      "                                AND T.responder_id IS NOT NULL;\n",
      "                        \n"
     ]
    }
   ],
   "source": [
    "d = {3: 'Dispatched', 5 : 'On Scene', 9: 'Depart Scene', 12: 'Clear'}\n",
    "table = getTimeDataset(d)"
   ]
  },
  {
   "cell_type": "code",
   "execution_count": 19,
   "metadata": {
    "collapsed": false
   },
   "outputs": [
    {
     "data": {
      "text/html": [
       "<div>\n",
       "<table border=\"1\" class=\"dataframe\">\n",
       "  <thead>\n",
       "    <tr style=\"text-align: right;\">\n",
       "      <th></th>\n",
       "      <th></th>\n",
       "      <th></th>\n",
       "      <th></th>\n",
       "      <th>timedesc_id</th>\n",
       "      <th>Dispatched</th>\n",
       "      <th>On Scene</th>\n",
       "      <th>Depart Scene</th>\n",
       "      <th>Clear</th>\n",
       "      <th>year</th>\n",
       "    </tr>\n",
       "    <tr>\n",
       "      <th>incident_id</th>\n",
       "      <th>responderunit_id</th>\n",
       "      <th>typenaturecode_id</th>\n",
       "      <th>fireblock</th>\n",
       "      <th>fmarespcomp</th>\n",
       "      <th></th>\n",
       "      <th></th>\n",
       "      <th></th>\n",
       "      <th></th>\n",
       "      <th></th>\n",
       "    </tr>\n",
       "  </thead>\n",
       "  <tbody>\n",
       "    <tr>\n",
       "      <th rowspan=\"2\" valign=\"top\">754221</th>\n",
       "      <th>52.0</th>\n",
       "      <th>147.0</th>\n",
       "      <th>0375</th>\n",
       "      <th>03</th>\n",
       "      <td>2010-01-01 00:07:32</td>\n",
       "      <td>NaT</td>\n",
       "      <td>NaT</td>\n",
       "      <td>2010-01-01 00:10:59</td>\n",
       "      <td>2010.0</td>\n",
       "    </tr>\n",
       "    <tr>\n",
       "      <th>221.0</th>\n",
       "      <th>147.0</th>\n",
       "      <th>0375</th>\n",
       "      <th>03</th>\n",
       "      <td>2010-01-01 00:07:32</td>\n",
       "      <td>2010-01-01 00:09:53</td>\n",
       "      <td>2010-01-01 00:22:43</td>\n",
       "      <td>2010-01-01 00:45:13</td>\n",
       "      <td>2010.0</td>\n",
       "    </tr>\n",
       "    <tr>\n",
       "      <th rowspan=\"2\" valign=\"top\">754222</th>\n",
       "      <th>58.0</th>\n",
       "      <th>134.0</th>\n",
       "      <th>0727</th>\n",
       "      <th>07</th>\n",
       "      <td>2010-01-01 00:04:24</td>\n",
       "      <td>2010-01-01 00:08:57</td>\n",
       "      <td>NaT</td>\n",
       "      <td>2010-01-01 00:12:50</td>\n",
       "      <td>2010.0</td>\n",
       "    </tr>\n",
       "    <tr>\n",
       "      <th>218.0</th>\n",
       "      <th>134.0</th>\n",
       "      <th>0727</th>\n",
       "      <th>07</th>\n",
       "      <td>2010-01-01 00:04:24</td>\n",
       "      <td>2010-01-01 00:07:14</td>\n",
       "      <td>NaT</td>\n",
       "      <td>2010-01-01 00:11:22</td>\n",
       "      <td>2010.0</td>\n",
       "    </tr>\n",
       "    <tr>\n",
       "      <th rowspan=\"2\" valign=\"top\">754224</th>\n",
       "      <th>232.0</th>\n",
       "      <th>21.0</th>\n",
       "      <th>1109</th>\n",
       "      <th>11</th>\n",
       "      <td>2010-01-01 00:14:15</td>\n",
       "      <td>2010-01-01 00:17:01</td>\n",
       "      <td>NaT</td>\n",
       "      <td>2010-01-01 00:52:06</td>\n",
       "      <td>2010.0</td>\n",
       "    </tr>\n",
       "    <tr>\n",
       "      <th>415.0</th>\n",
       "      <th>21.0</th>\n",
       "      <th>1109</th>\n",
       "      <th>11</th>\n",
       "      <td>2010-01-01 00:14:15</td>\n",
       "      <td>2010-01-01 00:17:36</td>\n",
       "      <td>NaT</td>\n",
       "      <td>2010-01-01 00:18:27</td>\n",
       "      <td>2010.0</td>\n",
       "    </tr>\n",
       "    <tr>\n",
       "      <th rowspan=\"2\" valign=\"top\">754225</th>\n",
       "      <th>120.0</th>\n",
       "      <th>125.0</th>\n",
       "      <th>2530</th>\n",
       "      <th>25</th>\n",
       "      <td>2010-01-01 00:16:21</td>\n",
       "      <td>NaT</td>\n",
       "      <td>NaT</td>\n",
       "      <td>2010-01-01 00:20:37</td>\n",
       "      <td>2010.0</td>\n",
       "    </tr>\n",
       "    <tr>\n",
       "      <th>229.0</th>\n",
       "      <th>125.0</th>\n",
       "      <th>2530</th>\n",
       "      <th>25</th>\n",
       "      <td>2010-01-01 00:16:21</td>\n",
       "      <td>2010-01-01 00:26:53</td>\n",
       "      <td>2010-01-01 00:37:50</td>\n",
       "      <td>2010-01-01 01:01:22</td>\n",
       "      <td>2010.0</td>\n",
       "    </tr>\n",
       "    <tr>\n",
       "      <th rowspan=\"2\" valign=\"top\">754226</th>\n",
       "      <th>56.0</th>\n",
       "      <th>141.0</th>\n",
       "      <th>0133</th>\n",
       "      <th>01</th>\n",
       "      <td>2010-01-01 00:21:17</td>\n",
       "      <td>2010-01-01 00:27:50</td>\n",
       "      <td>NaT</td>\n",
       "      <td>2010-01-01 00:22:14</td>\n",
       "      <td>2010.0</td>\n",
       "    </tr>\n",
       "    <tr>\n",
       "      <th>123.0</th>\n",
       "      <th>141.0</th>\n",
       "      <th>0133</th>\n",
       "      <th>01</th>\n",
       "      <td>2010-01-01 00:22:11</td>\n",
       "      <td>2010-01-01 00:22:56</td>\n",
       "      <td>NaT</td>\n",
       "      <td>2010-01-01 00:36:28</td>\n",
       "      <td>2010.0</td>\n",
       "    </tr>\n",
       "  </tbody>\n",
       "</table>\n",
       "</div>"
      ],
      "text/plain": [
       "timedesc_id                                                                   Dispatched  \\\n",
       "incident_id responderunit_id typenaturecode_id fireblock fmarespcomp                       \n",
       "754221      52.0             147.0             0375      03          2010-01-01 00:07:32   \n",
       "            221.0            147.0             0375      03          2010-01-01 00:07:32   \n",
       "754222      58.0             134.0             0727      07          2010-01-01 00:04:24   \n",
       "            218.0            134.0             0727      07          2010-01-01 00:04:24   \n",
       "754224      232.0            21.0              1109      11          2010-01-01 00:14:15   \n",
       "            415.0            21.0              1109      11          2010-01-01 00:14:15   \n",
       "754225      120.0            125.0             2530      25          2010-01-01 00:16:21   \n",
       "            229.0            125.0             2530      25          2010-01-01 00:16:21   \n",
       "754226      56.0             141.0             0133      01          2010-01-01 00:21:17   \n",
       "            123.0            141.0             0133      01          2010-01-01 00:22:11   \n",
       "\n",
       "timedesc_id                                                                     On Scene  \\\n",
       "incident_id responderunit_id typenaturecode_id fireblock fmarespcomp                       \n",
       "754221      52.0             147.0             0375      03                          NaT   \n",
       "            221.0            147.0             0375      03          2010-01-01 00:09:53   \n",
       "754222      58.0             134.0             0727      07          2010-01-01 00:08:57   \n",
       "            218.0            134.0             0727      07          2010-01-01 00:07:14   \n",
       "754224      232.0            21.0              1109      11          2010-01-01 00:17:01   \n",
       "            415.0            21.0              1109      11          2010-01-01 00:17:36   \n",
       "754225      120.0            125.0             2530      25                          NaT   \n",
       "            229.0            125.0             2530      25          2010-01-01 00:26:53   \n",
       "754226      56.0             141.0             0133      01          2010-01-01 00:27:50   \n",
       "            123.0            141.0             0133      01          2010-01-01 00:22:56   \n",
       "\n",
       "timedesc_id                                                                 Depart Scene  \\\n",
       "incident_id responderunit_id typenaturecode_id fireblock fmarespcomp                       \n",
       "754221      52.0             147.0             0375      03                          NaT   \n",
       "            221.0            147.0             0375      03          2010-01-01 00:22:43   \n",
       "754222      58.0             134.0             0727      07                          NaT   \n",
       "            218.0            134.0             0727      07                          NaT   \n",
       "754224      232.0            21.0              1109      11                          NaT   \n",
       "            415.0            21.0              1109      11                          NaT   \n",
       "754225      120.0            125.0             2530      25                          NaT   \n",
       "            229.0            125.0             2530      25          2010-01-01 00:37:50   \n",
       "754226      56.0             141.0             0133      01                          NaT   \n",
       "            123.0            141.0             0133      01                          NaT   \n",
       "\n",
       "timedesc_id                                                                        Clear  \\\n",
       "incident_id responderunit_id typenaturecode_id fireblock fmarespcomp                       \n",
       "754221      52.0             147.0             0375      03          2010-01-01 00:10:59   \n",
       "            221.0            147.0             0375      03          2010-01-01 00:45:13   \n",
       "754222      58.0             134.0             0727      07          2010-01-01 00:12:50   \n",
       "            218.0            134.0             0727      07          2010-01-01 00:11:22   \n",
       "754224      232.0            21.0              1109      11          2010-01-01 00:52:06   \n",
       "            415.0            21.0              1109      11          2010-01-01 00:18:27   \n",
       "754225      120.0            125.0             2530      25          2010-01-01 00:20:37   \n",
       "            229.0            125.0             2530      25          2010-01-01 01:01:22   \n",
       "754226      56.0             141.0             0133      01          2010-01-01 00:22:14   \n",
       "            123.0            141.0             0133      01          2010-01-01 00:36:28   \n",
       "\n",
       "timedesc_id                                                             year  \n",
       "incident_id responderunit_id typenaturecode_id fireblock fmarespcomp          \n",
       "754221      52.0             147.0             0375      03           2010.0  \n",
       "            221.0            147.0             0375      03           2010.0  \n",
       "754222      58.0             134.0             0727      07           2010.0  \n",
       "            218.0            134.0             0727      07           2010.0  \n",
       "754224      232.0            21.0              1109      11           2010.0  \n",
       "            415.0            21.0              1109      11           2010.0  \n",
       "754225      120.0            125.0             2530      25           2010.0  \n",
       "            229.0            125.0             2530      25           2010.0  \n",
       "754226      56.0             141.0             0133      01           2010.0  \n",
       "            123.0            141.0             0133      01           2010.0  "
      ]
     },
     "execution_count": 19,
     "metadata": {},
     "output_type": "execute_result"
    }
   ],
   "source": [
    "table.head(10)"
   ]
  },
  {
   "cell_type": "code",
   "execution_count": 20,
   "metadata": {
    "collapsed": false
   },
   "outputs": [
    {
     "data": {
      "text/html": [
       "<div>\n",
       "<table border=\"1\" class=\"dataframe\">\n",
       "  <thead>\n",
       "    <tr style=\"text-align: right;\">\n",
       "      <th></th>\n",
       "      <th></th>\n",
       "      <th></th>\n",
       "      <th></th>\n",
       "      <th>timedesc_id</th>\n",
       "      <th>Dispatched</th>\n",
       "      <th>On Scene</th>\n",
       "      <th>Depart Scene</th>\n",
       "      <th>Clear</th>\n",
       "      <th>year</th>\n",
       "      <th>Response_Time</th>\n",
       "      <th>OnScene_Time</th>\n",
       "    </tr>\n",
       "    <tr>\n",
       "      <th>incident_id</th>\n",
       "      <th>responderunit_id</th>\n",
       "      <th>typenaturecode_id</th>\n",
       "      <th>fireblock</th>\n",
       "      <th>fmarespcomp</th>\n",
       "      <th></th>\n",
       "      <th></th>\n",
       "      <th></th>\n",
       "      <th></th>\n",
       "      <th></th>\n",
       "      <th></th>\n",
       "      <th></th>\n",
       "    </tr>\n",
       "  </thead>\n",
       "  <tbody>\n",
       "    <tr>\n",
       "      <th rowspan=\"2\" valign=\"top\">754221</th>\n",
       "      <th>52.0</th>\n",
       "      <th>147.0</th>\n",
       "      <th>0375</th>\n",
       "      <th>03</th>\n",
       "      <td>2010-01-01 00:07:32</td>\n",
       "      <td>NaT</td>\n",
       "      <td>NaT</td>\n",
       "      <td>2010-01-01 00:10:59</td>\n",
       "      <td>2010.0</td>\n",
       "      <td>NaT</td>\n",
       "      <td>NaT</td>\n",
       "    </tr>\n",
       "    <tr>\n",
       "      <th>221.0</th>\n",
       "      <th>147.0</th>\n",
       "      <th>0375</th>\n",
       "      <th>03</th>\n",
       "      <td>2010-01-01 00:07:32</td>\n",
       "      <td>2010-01-01 00:09:53</td>\n",
       "      <td>2010-01-01 00:22:43</td>\n",
       "      <td>2010-01-01 00:45:13</td>\n",
       "      <td>2010.0</td>\n",
       "      <td>00:02:21</td>\n",
       "      <td>00:35:20</td>\n",
       "    </tr>\n",
       "    <tr>\n",
       "      <th rowspan=\"2\" valign=\"top\">754222</th>\n",
       "      <th>58.0</th>\n",
       "      <th>134.0</th>\n",
       "      <th>0727</th>\n",
       "      <th>07</th>\n",
       "      <td>2010-01-01 00:04:24</td>\n",
       "      <td>2010-01-01 00:08:57</td>\n",
       "      <td>NaT</td>\n",
       "      <td>2010-01-01 00:12:50</td>\n",
       "      <td>2010.0</td>\n",
       "      <td>00:04:33</td>\n",
       "      <td>00:03:53</td>\n",
       "    </tr>\n",
       "    <tr>\n",
       "      <th>218.0</th>\n",
       "      <th>134.0</th>\n",
       "      <th>0727</th>\n",
       "      <th>07</th>\n",
       "      <td>2010-01-01 00:04:24</td>\n",
       "      <td>2010-01-01 00:07:14</td>\n",
       "      <td>NaT</td>\n",
       "      <td>2010-01-01 00:11:22</td>\n",
       "      <td>2010.0</td>\n",
       "      <td>00:02:50</td>\n",
       "      <td>00:04:08</td>\n",
       "    </tr>\n",
       "    <tr>\n",
       "      <th rowspan=\"2\" valign=\"top\">754224</th>\n",
       "      <th>232.0</th>\n",
       "      <th>21.0</th>\n",
       "      <th>1109</th>\n",
       "      <th>11</th>\n",
       "      <td>2010-01-01 00:14:15</td>\n",
       "      <td>2010-01-01 00:17:01</td>\n",
       "      <td>NaT</td>\n",
       "      <td>2010-01-01 00:52:06</td>\n",
       "      <td>2010.0</td>\n",
       "      <td>00:02:46</td>\n",
       "      <td>00:35:05</td>\n",
       "    </tr>\n",
       "    <tr>\n",
       "      <th>415.0</th>\n",
       "      <th>21.0</th>\n",
       "      <th>1109</th>\n",
       "      <th>11</th>\n",
       "      <td>2010-01-01 00:14:15</td>\n",
       "      <td>2010-01-01 00:17:36</td>\n",
       "      <td>NaT</td>\n",
       "      <td>2010-01-01 00:18:27</td>\n",
       "      <td>2010.0</td>\n",
       "      <td>00:03:21</td>\n",
       "      <td>00:00:51</td>\n",
       "    </tr>\n",
       "    <tr>\n",
       "      <th rowspan=\"2\" valign=\"top\">754225</th>\n",
       "      <th>120.0</th>\n",
       "      <th>125.0</th>\n",
       "      <th>2530</th>\n",
       "      <th>25</th>\n",
       "      <td>2010-01-01 00:16:21</td>\n",
       "      <td>NaT</td>\n",
       "      <td>NaT</td>\n",
       "      <td>2010-01-01 00:20:37</td>\n",
       "      <td>2010.0</td>\n",
       "      <td>NaT</td>\n",
       "      <td>NaT</td>\n",
       "    </tr>\n",
       "    <tr>\n",
       "      <th>229.0</th>\n",
       "      <th>125.0</th>\n",
       "      <th>2530</th>\n",
       "      <th>25</th>\n",
       "      <td>2010-01-01 00:16:21</td>\n",
       "      <td>2010-01-01 00:26:53</td>\n",
       "      <td>2010-01-01 00:37:50</td>\n",
       "      <td>2010-01-01 01:01:22</td>\n",
       "      <td>2010.0</td>\n",
       "      <td>00:10:32</td>\n",
       "      <td>00:34:29</td>\n",
       "    </tr>\n",
       "    <tr>\n",
       "      <th rowspan=\"4\" valign=\"top\">754226</th>\n",
       "      <th>56.0</th>\n",
       "      <th>141.0</th>\n",
       "      <th>0133</th>\n",
       "      <th>01</th>\n",
       "      <td>2010-01-01 00:21:17</td>\n",
       "      <td>2010-01-01 00:27:50</td>\n",
       "      <td>NaT</td>\n",
       "      <td>2010-01-01 00:22:14</td>\n",
       "      <td>2010.0</td>\n",
       "      <td>00:06:33</td>\n",
       "      <td>-1 days +23:54:24</td>\n",
       "    </tr>\n",
       "    <tr>\n",
       "      <th>123.0</th>\n",
       "      <th>141.0</th>\n",
       "      <th>0133</th>\n",
       "      <th>01</th>\n",
       "      <td>2010-01-01 00:22:11</td>\n",
       "      <td>2010-01-01 00:22:56</td>\n",
       "      <td>NaT</td>\n",
       "      <td>2010-01-01 00:36:28</td>\n",
       "      <td>2010.0</td>\n",
       "      <td>00:00:45</td>\n",
       "      <td>00:13:32</td>\n",
       "    </tr>\n",
       "    <tr>\n",
       "      <th>218.0</th>\n",
       "      <th>141.0</th>\n",
       "      <th>0133</th>\n",
       "      <th>01</th>\n",
       "      <td>2010-01-01 00:21:17</td>\n",
       "      <td>NaT</td>\n",
       "      <td>NaT</td>\n",
       "      <td>2010-01-01 00:21:23</td>\n",
       "      <td>2010.0</td>\n",
       "      <td>NaT</td>\n",
       "      <td>NaT</td>\n",
       "    </tr>\n",
       "    <tr>\n",
       "      <th>230.0</th>\n",
       "      <th>141.0</th>\n",
       "      <th>0133</th>\n",
       "      <th>01</th>\n",
       "      <td>2010-01-01 00:23:33</td>\n",
       "      <td>2010-01-01 00:30:27</td>\n",
       "      <td>2010-01-01 00:37:00</td>\n",
       "      <td>2010-01-01 01:19:48</td>\n",
       "      <td>2010.0</td>\n",
       "      <td>00:06:54</td>\n",
       "      <td>00:49:21</td>\n",
       "    </tr>\n",
       "    <tr>\n",
       "      <th rowspan=\"2\" valign=\"top\">754227</th>\n",
       "      <th>30.0</th>\n",
       "      <th>141.0</th>\n",
       "      <th>0109</th>\n",
       "      <th>01</th>\n",
       "      <td>2010-01-01 00:09:02</td>\n",
       "      <td>2010-01-01 00:17:39</td>\n",
       "      <td>NaT</td>\n",
       "      <td>2010-01-01 00:23:35</td>\n",
       "      <td>2010.0</td>\n",
       "      <td>00:08:37</td>\n",
       "      <td>00:05:56</td>\n",
       "    </tr>\n",
       "    <tr>\n",
       "      <th>215.0</th>\n",
       "      <th>141.0</th>\n",
       "      <th>0109</th>\n",
       "      <th>01</th>\n",
       "      <td>2010-01-01 00:09:02</td>\n",
       "      <td>2010-01-01 00:19:38</td>\n",
       "      <td>2010-01-01 00:29:59</td>\n",
       "      <td>2010-01-01 01:00:23</td>\n",
       "      <td>2010.0</td>\n",
       "      <td>00:10:36</td>\n",
       "      <td>00:40:45</td>\n",
       "    </tr>\n",
       "    <tr>\n",
       "      <th rowspan=\"2\" valign=\"top\">754228</th>\n",
       "      <th>33.0</th>\n",
       "      <th>12.0</th>\n",
       "      <th>0127</th>\n",
       "      <th>01</th>\n",
       "      <td>2010-01-01 00:17:31</td>\n",
       "      <td>NaT</td>\n",
       "      <td>NaT</td>\n",
       "      <td>2010-01-01 00:23:29</td>\n",
       "      <td>2010.0</td>\n",
       "      <td>NaT</td>\n",
       "      <td>NaT</td>\n",
       "    </tr>\n",
       "    <tr>\n",
       "      <th>116.0</th>\n",
       "      <th>12.0</th>\n",
       "      <th>0127</th>\n",
       "      <th>01</th>\n",
       "      <td>2010-01-01 00:17:31</td>\n",
       "      <td>2010-01-01 00:23:24</td>\n",
       "      <td>NaT</td>\n",
       "      <td>2010-01-01 00:25:26</td>\n",
       "      <td>2010.0</td>\n",
       "      <td>00:05:53</td>\n",
       "      <td>00:02:02</td>\n",
       "    </tr>\n",
       "    <tr>\n",
       "      <th rowspan=\"3\" valign=\"top\">754229</th>\n",
       "      <th>46.0</th>\n",
       "      <th>147.0</th>\n",
       "      <th>2530</th>\n",
       "      <th>25</th>\n",
       "      <td>2010-01-01 00:19:21</td>\n",
       "      <td>2010-01-01 00:25:06</td>\n",
       "      <td>NaT</td>\n",
       "      <td>2010-01-01 00:27:23</td>\n",
       "      <td>2010.0</td>\n",
       "      <td>00:05:45</td>\n",
       "      <td>00:02:17</td>\n",
       "    </tr>\n",
       "    <tr>\n",
       "      <th>218.0</th>\n",
       "      <th>147.0</th>\n",
       "      <th>2530</th>\n",
       "      <th>25</th>\n",
       "      <td>2010-01-01 00:21:26</td>\n",
       "      <td>NaT</td>\n",
       "      <td>NaT</td>\n",
       "      <td>2010-01-01 00:26:25</td>\n",
       "      <td>2010.0</td>\n",
       "      <td>NaT</td>\n",
       "      <td>NaT</td>\n",
       "    </tr>\n",
       "    <tr>\n",
       "      <th>230.0</th>\n",
       "      <th>147.0</th>\n",
       "      <th>2530</th>\n",
       "      <th>25</th>\n",
       "      <td>2010-01-01 00:19:21</td>\n",
       "      <td>NaT</td>\n",
       "      <td>NaT</td>\n",
       "      <td>2010-01-01 00:21:32</td>\n",
       "      <td>2010.0</td>\n",
       "      <td>NaT</td>\n",
       "      <td>NaT</td>\n",
       "    </tr>\n",
       "    <tr>\n",
       "      <th>754230</th>\n",
       "      <th>116.0</th>\n",
       "      <th>155.0</th>\n",
       "      <th>0127</th>\n",
       "      <th>01</th>\n",
       "      <td>2010-01-01 00:25:34</td>\n",
       "      <td>2010-01-01 00:25:34</td>\n",
       "      <td>NaT</td>\n",
       "      <td>2010-01-01 00:31:23</td>\n",
       "      <td>2010.0</td>\n",
       "      <td>00:00:00</td>\n",
       "      <td>00:05:49</td>\n",
       "    </tr>\n",
       "  </tbody>\n",
       "</table>\n",
       "</div>"
      ],
      "text/plain": [
       "timedesc_id                                                                   Dispatched  \\\n",
       "incident_id responderunit_id typenaturecode_id fireblock fmarespcomp                       \n",
       "754221      52.0             147.0             0375      03          2010-01-01 00:07:32   \n",
       "            221.0            147.0             0375      03          2010-01-01 00:07:32   \n",
       "754222      58.0             134.0             0727      07          2010-01-01 00:04:24   \n",
       "            218.0            134.0             0727      07          2010-01-01 00:04:24   \n",
       "754224      232.0            21.0              1109      11          2010-01-01 00:14:15   \n",
       "            415.0            21.0              1109      11          2010-01-01 00:14:15   \n",
       "754225      120.0            125.0             2530      25          2010-01-01 00:16:21   \n",
       "            229.0            125.0             2530      25          2010-01-01 00:16:21   \n",
       "754226      56.0             141.0             0133      01          2010-01-01 00:21:17   \n",
       "            123.0            141.0             0133      01          2010-01-01 00:22:11   \n",
       "            218.0            141.0             0133      01          2010-01-01 00:21:17   \n",
       "            230.0            141.0             0133      01          2010-01-01 00:23:33   \n",
       "754227      30.0             141.0             0109      01          2010-01-01 00:09:02   \n",
       "            215.0            141.0             0109      01          2010-01-01 00:09:02   \n",
       "754228      33.0             12.0              0127      01          2010-01-01 00:17:31   \n",
       "            116.0            12.0              0127      01          2010-01-01 00:17:31   \n",
       "754229      46.0             147.0             2530      25          2010-01-01 00:19:21   \n",
       "            218.0            147.0             2530      25          2010-01-01 00:21:26   \n",
       "            230.0            147.0             2530      25          2010-01-01 00:19:21   \n",
       "754230      116.0            155.0             0127      01          2010-01-01 00:25:34   \n",
       "\n",
       "timedesc_id                                                                     On Scene  \\\n",
       "incident_id responderunit_id typenaturecode_id fireblock fmarespcomp                       \n",
       "754221      52.0             147.0             0375      03                          NaT   \n",
       "            221.0            147.0             0375      03          2010-01-01 00:09:53   \n",
       "754222      58.0             134.0             0727      07          2010-01-01 00:08:57   \n",
       "            218.0            134.0             0727      07          2010-01-01 00:07:14   \n",
       "754224      232.0            21.0              1109      11          2010-01-01 00:17:01   \n",
       "            415.0            21.0              1109      11          2010-01-01 00:17:36   \n",
       "754225      120.0            125.0             2530      25                          NaT   \n",
       "            229.0            125.0             2530      25          2010-01-01 00:26:53   \n",
       "754226      56.0             141.0             0133      01          2010-01-01 00:27:50   \n",
       "            123.0            141.0             0133      01          2010-01-01 00:22:56   \n",
       "            218.0            141.0             0133      01                          NaT   \n",
       "            230.0            141.0             0133      01          2010-01-01 00:30:27   \n",
       "754227      30.0             141.0             0109      01          2010-01-01 00:17:39   \n",
       "            215.0            141.0             0109      01          2010-01-01 00:19:38   \n",
       "754228      33.0             12.0              0127      01                          NaT   \n",
       "            116.0            12.0              0127      01          2010-01-01 00:23:24   \n",
       "754229      46.0             147.0             2530      25          2010-01-01 00:25:06   \n",
       "            218.0            147.0             2530      25                          NaT   \n",
       "            230.0            147.0             2530      25                          NaT   \n",
       "754230      116.0            155.0             0127      01          2010-01-01 00:25:34   \n",
       "\n",
       "timedesc_id                                                                 Depart Scene  \\\n",
       "incident_id responderunit_id typenaturecode_id fireblock fmarespcomp                       \n",
       "754221      52.0             147.0             0375      03                          NaT   \n",
       "            221.0            147.0             0375      03          2010-01-01 00:22:43   \n",
       "754222      58.0             134.0             0727      07                          NaT   \n",
       "            218.0            134.0             0727      07                          NaT   \n",
       "754224      232.0            21.0              1109      11                          NaT   \n",
       "            415.0            21.0              1109      11                          NaT   \n",
       "754225      120.0            125.0             2530      25                          NaT   \n",
       "            229.0            125.0             2530      25          2010-01-01 00:37:50   \n",
       "754226      56.0             141.0             0133      01                          NaT   \n",
       "            123.0            141.0             0133      01                          NaT   \n",
       "            218.0            141.0             0133      01                          NaT   \n",
       "            230.0            141.0             0133      01          2010-01-01 00:37:00   \n",
       "754227      30.0             141.0             0109      01                          NaT   \n",
       "            215.0            141.0             0109      01          2010-01-01 00:29:59   \n",
       "754228      33.0             12.0              0127      01                          NaT   \n",
       "            116.0            12.0              0127      01                          NaT   \n",
       "754229      46.0             147.0             2530      25                          NaT   \n",
       "            218.0            147.0             2530      25                          NaT   \n",
       "            230.0            147.0             2530      25                          NaT   \n",
       "754230      116.0            155.0             0127      01                          NaT   \n",
       "\n",
       "timedesc_id                                                                        Clear  \\\n",
       "incident_id responderunit_id typenaturecode_id fireblock fmarespcomp                       \n",
       "754221      52.0             147.0             0375      03          2010-01-01 00:10:59   \n",
       "            221.0            147.0             0375      03          2010-01-01 00:45:13   \n",
       "754222      58.0             134.0             0727      07          2010-01-01 00:12:50   \n",
       "            218.0            134.0             0727      07          2010-01-01 00:11:22   \n",
       "754224      232.0            21.0              1109      11          2010-01-01 00:52:06   \n",
       "            415.0            21.0              1109      11          2010-01-01 00:18:27   \n",
       "754225      120.0            125.0             2530      25          2010-01-01 00:20:37   \n",
       "            229.0            125.0             2530      25          2010-01-01 01:01:22   \n",
       "754226      56.0             141.0             0133      01          2010-01-01 00:22:14   \n",
       "            123.0            141.0             0133      01          2010-01-01 00:36:28   \n",
       "            218.0            141.0             0133      01          2010-01-01 00:21:23   \n",
       "            230.0            141.0             0133      01          2010-01-01 01:19:48   \n",
       "754227      30.0             141.0             0109      01          2010-01-01 00:23:35   \n",
       "            215.0            141.0             0109      01          2010-01-01 01:00:23   \n",
       "754228      33.0             12.0              0127      01          2010-01-01 00:23:29   \n",
       "            116.0            12.0              0127      01          2010-01-01 00:25:26   \n",
       "754229      46.0             147.0             2530      25          2010-01-01 00:27:23   \n",
       "            218.0            147.0             2530      25          2010-01-01 00:26:25   \n",
       "            230.0            147.0             2530      25          2010-01-01 00:21:32   \n",
       "754230      116.0            155.0             0127      01          2010-01-01 00:31:23   \n",
       "\n",
       "timedesc_id                                                             year  \\\n",
       "incident_id responderunit_id typenaturecode_id fireblock fmarespcomp           \n",
       "754221      52.0             147.0             0375      03           2010.0   \n",
       "            221.0            147.0             0375      03           2010.0   \n",
       "754222      58.0             134.0             0727      07           2010.0   \n",
       "            218.0            134.0             0727      07           2010.0   \n",
       "754224      232.0            21.0              1109      11           2010.0   \n",
       "            415.0            21.0              1109      11           2010.0   \n",
       "754225      120.0            125.0             2530      25           2010.0   \n",
       "            229.0            125.0             2530      25           2010.0   \n",
       "754226      56.0             141.0             0133      01           2010.0   \n",
       "            123.0            141.0             0133      01           2010.0   \n",
       "            218.0            141.0             0133      01           2010.0   \n",
       "            230.0            141.0             0133      01           2010.0   \n",
       "754227      30.0             141.0             0109      01           2010.0   \n",
       "            215.0            141.0             0109      01           2010.0   \n",
       "754228      33.0             12.0              0127      01           2010.0   \n",
       "            116.0            12.0              0127      01           2010.0   \n",
       "754229      46.0             147.0             2530      25           2010.0   \n",
       "            218.0            147.0             2530      25           2010.0   \n",
       "            230.0            147.0             2530      25           2010.0   \n",
       "754230      116.0            155.0             0127      01           2010.0   \n",
       "\n",
       "timedesc_id                                                           Response_Time  \\\n",
       "incident_id responderunit_id typenaturecode_id fireblock fmarespcomp                  \n",
       "754221      52.0             147.0             0375      03                     NaT   \n",
       "            221.0            147.0             0375      03                00:02:21   \n",
       "754222      58.0             134.0             0727      07                00:04:33   \n",
       "            218.0            134.0             0727      07                00:02:50   \n",
       "754224      232.0            21.0              1109      11                00:02:46   \n",
       "            415.0            21.0              1109      11                00:03:21   \n",
       "754225      120.0            125.0             2530      25                     NaT   \n",
       "            229.0            125.0             2530      25                00:10:32   \n",
       "754226      56.0             141.0             0133      01                00:06:33   \n",
       "            123.0            141.0             0133      01                00:00:45   \n",
       "            218.0            141.0             0133      01                     NaT   \n",
       "            230.0            141.0             0133      01                00:06:54   \n",
       "754227      30.0             141.0             0109      01                00:08:37   \n",
       "            215.0            141.0             0109      01                00:10:36   \n",
       "754228      33.0             12.0              0127      01                     NaT   \n",
       "            116.0            12.0              0127      01                00:05:53   \n",
       "754229      46.0             147.0             2530      25                00:05:45   \n",
       "            218.0            147.0             2530      25                     NaT   \n",
       "            230.0            147.0             2530      25                     NaT   \n",
       "754230      116.0            155.0             0127      01                00:00:00   \n",
       "\n",
       "timedesc_id                                                               OnScene_Time  \n",
       "incident_id responderunit_id typenaturecode_id fireblock fmarespcomp                    \n",
       "754221      52.0             147.0             0375      03                        NaT  \n",
       "            221.0            147.0             0375      03                   00:35:20  \n",
       "754222      58.0             134.0             0727      07                   00:03:53  \n",
       "            218.0            134.0             0727      07                   00:04:08  \n",
       "754224      232.0            21.0              1109      11                   00:35:05  \n",
       "            415.0            21.0              1109      11                   00:00:51  \n",
       "754225      120.0            125.0             2530      25                        NaT  \n",
       "            229.0            125.0             2530      25                   00:34:29  \n",
       "754226      56.0             141.0             0133      01          -1 days +23:54:24  \n",
       "            123.0            141.0             0133      01                   00:13:32  \n",
       "            218.0            141.0             0133      01                        NaT  \n",
       "            230.0            141.0             0133      01                   00:49:21  \n",
       "754227      30.0             141.0             0109      01                   00:05:56  \n",
       "            215.0            141.0             0109      01                   00:40:45  \n",
       "754228      33.0             12.0              0127      01                        NaT  \n",
       "            116.0            12.0              0127      01                   00:02:02  \n",
       "754229      46.0             147.0             2530      25                   00:02:17  \n",
       "            218.0            147.0             2530      25                        NaT  \n",
       "            230.0            147.0             2530      25                        NaT  \n",
       "754230      116.0            155.0             0127      01                   00:05:49  "
      ]
     },
     "execution_count": 20,
     "metadata": {},
     "output_type": "execute_result"
    }
   ],
   "source": [
    "##Calculate \"Response_Time\" and \"OnScene_Time\"\n",
    "table[\"Response_Time\"] = table['On Scene'].sub(table['Dispatched'], axis = 0)\n",
    "table[\"OnScene_Time\"] = table['Clear'].sub(table['On Scene'], axis = 0)\n",
    "\n",
    "table[\"Response_Time\"].astype('timedelta64[m]')\n",
    "table[\"OnScene_Time\"].astype('timedelta64[m]')\n",
    "table.head(20)\n"
   ]
  },
  {
   "cell_type": "code",
   "execution_count": 21,
   "metadata": {
    "collapsed": false
   },
   "outputs": [
    {
     "data": {
      "text/html": [
       "<div>\n",
       "<table border=\"1\" class=\"dataframe\">\n",
       "  <thead>\n",
       "    <tr style=\"text-align: right;\">\n",
       "      <th>timedesc_id</th>\n",
       "      <th>year</th>\n",
       "      <th>Response_Time</th>\n",
       "      <th>OnScene_Time</th>\n",
       "    </tr>\n",
       "  </thead>\n",
       "  <tbody>\n",
       "    <tr>\n",
       "      <th>count</th>\n",
       "      <td>1.051459e+06</td>\n",
       "      <td>889921</td>\n",
       "      <td>882483</td>\n",
       "    </tr>\n",
       "    <tr>\n",
       "      <th>mean</th>\n",
       "      <td>2.013164e+03</td>\n",
       "      <td>-1 days +23:38:10.949737</td>\n",
       "      <td>0 days 01:26:52.621557</td>\n",
       "    </tr>\n",
       "    <tr>\n",
       "      <th>std</th>\n",
       "      <td>2.005796e+00</td>\n",
       "      <td>17 days 01:23:53.266197</td>\n",
       "      <td>38 days 21:26:52.810288</td>\n",
       "    </tr>\n",
       "    <tr>\n",
       "      <th>min</th>\n",
       "      <td>2.010000e+03</td>\n",
       "      <td>-16071 days +00:03:54</td>\n",
       "      <td>-366 days +00:08:23</td>\n",
       "    </tr>\n",
       "    <tr>\n",
       "      <th>25%</th>\n",
       "      <td>2.011000e+03</td>\n",
       "      <td>0 days 00:03:58</td>\n",
       "      <td>0 days 00:07:15</td>\n",
       "    </tr>\n",
       "    <tr>\n",
       "      <th>50%</th>\n",
       "      <td>2.013000e+03</td>\n",
       "      <td>0 days 00:05:10</td>\n",
       "      <td>0 days 00:15:42</td>\n",
       "    </tr>\n",
       "    <tr>\n",
       "      <th>75%</th>\n",
       "      <td>2.015000e+03</td>\n",
       "      <td>0 days 00:06:38</td>\n",
       "      <td>0 days 00:49:16</td>\n",
       "    </tr>\n",
       "    <tr>\n",
       "      <th>max</th>\n",
       "      <td>2.060000e+03</td>\n",
       "      <td>70 days 06:14:30</td>\n",
       "      <td>36524 days 00:02:02</td>\n",
       "    </tr>\n",
       "  </tbody>\n",
       "</table>\n",
       "</div>"
      ],
      "text/plain": [
       "timedesc_id          year             Response_Time             OnScene_Time\n",
       "count        1.051459e+06                    889921                   882483\n",
       "mean         2.013164e+03  -1 days +23:38:10.949737   0 days 01:26:52.621557\n",
       "std          2.005796e+00   17 days 01:23:53.266197  38 days 21:26:52.810288\n",
       "min          2.010000e+03     -16071 days +00:03:54      -366 days +00:08:23\n",
       "25%          2.011000e+03           0 days 00:03:58          0 days 00:07:15\n",
       "50%          2.013000e+03           0 days 00:05:10          0 days 00:15:42\n",
       "75%          2.015000e+03           0 days 00:06:38          0 days 00:49:16\n",
       "max          2.060000e+03          70 days 06:14:30      36524 days 00:02:02"
      ]
     },
     "execution_count": 21,
     "metadata": {},
     "output_type": "execute_result"
    }
   ],
   "source": [
    "table.describe()\n",
    "##Looks like there are negative time and very long times  "
   ]
  },
  {
   "cell_type": "code",
   "execution_count": 42,
   "metadata": {
    "collapsed": false
   },
   "outputs": [
    {
     "data": {
      "text/plain": [
       "<matplotlib.axes._subplots.AxesSubplot at 0x7fcd646a46d8>"
      ]
     },
     "execution_count": 42,
     "metadata": {},
     "output_type": "execute_result"
    },
    {
     "data": {
      "image/png": "[encoded data removed]",
      "text/plain": [
       "<matplotlib.figure.Figure at 0x7fcd65c7c048>"
      ]
     },
     "metadata": {},
     "output_type": "display_data"
    }
   ],
   "source": [
    "## Plot the distribution of Response_Time\n",
    "## Ignore negative and time longer than 1 day\n",
    "table['RT_diff']=table['Response_Time']/pd.Timedelta(minutes=1,seconds=0)\n",
    "table1 = table.loc[table['RT_diff']>0.0].loc[table['RT_diff']<=1440]\n",
    "sns.distplot(table1['RT_diff'])"
   ]
  },
  {
   "cell_type": "code",
   "execution_count": 67,
   "metadata": {
    "collapsed": false
   },
   "outputs": [
    {
     "data": {
      "image/png": "[encoded data removed]",
      "text/plain": [
       "<matplotlib.figure.Figure at 0x7fcd589abf98>"
      ]
     },
     "metadata": {},
     "output_type": "display_data"
    }
   ],
   "source": [
    "## Most of Response_time is shorter than 30 mins\n",
    "## Calculate mean of Response_time groupby \"year\" and \"fma\"(fire management area)\n",
    "## Boxplot the means of \"fma\" cross different \"year\"\n",
    "table['year'] =  pd.DatetimeIndex(table['Dispatched']).year\n",
    "table['fmarespcomp'] = table.index.get_level_values('fmarespcomp')\n",
    "table1 = table.loc[table['RT_diff']>=1.0].loc[table['RT_diff']<=30.0].copy()\n",
    "avg_RT = table1.groupby(['year','fmarespcomp'])['RT_diff'].mean().rename('mean').reset_index()\n",
    "avg_RT = pd.DataFrame(avg_RT)\n",
    "plt.rcParams['figure.figsize']=(10,10)\n",
    "ax1 = sns.boxplot(x=\"year\", y=\"mean\", data=avg_RT)\n"
   ]
  },
  {
   "cell_type": "code",
   "execution_count": 68,
   "metadata": {
    "collapsed": false
   },
   "outputs": [
    {
     "data": {
      "text/plain": [
       "(array([ 0,  1,  2,  3,  4,  5,  6,  7,  8,  9, 10, 11, 12, 13, 14, 15, 16,\n",
       "        17, 18, 19, 20, 21, 22, 23, 24, 25, 26, 27, 28, 29, 30, 31, 32, 33,\n",
       "        34, 35, 36, 37, 38, 39, 40, 41, 42, 43, 44, 45, 46, 47, 48, 49, 50,\n",
       "        51, 52, 53, 54]), <a list of 55 Text xticklabel objects>)"
      ]
     },
     "execution_count": 68,
     "metadata": {},
     "output_type": "execute_result"
    },
    {
     "data": {
      "image/png": "[encoded data removed]",
      "text/plain": [
       "<matplotlib.figure.Figure at 0x7fcd664e96d8>"
      ]
     },
     "metadata": {},
     "output_type": "display_data"
    }
   ],
   "source": [
    "## Boxplot the means of \"year\" cross different \"fma\"\n",
    "ax2 = sns.boxplot(x=\"fmarespcomp\", y=\"mean\", data=avg_RT)\n",
    "plt.xticks(rotation=60)\n"
   ]
  },
  {
   "cell_type": "code",
   "execution_count": 73,
   "metadata": {
    "collapsed": false
   },
   "outputs": [
    {
     "data": {
      "text/plain": [
       "6.92180383387125"
      ]
     },
     "execution_count": 73,
     "metadata": {},
     "output_type": "execute_result"
    }
   ],
   "source": [
    "avg_RT_overYears = avg_RT['mean'].mean()\n",
    "avg_RT_overYears"
   ]
  },
  {
   "cell_type": "code",
   "execution_count": 72,
   "metadata": {
    "collapsed": false
   },
   "outputs": [
    {
     "data": {
      "text/plain": [
       "<matplotlib.axes._subplots.AxesSubplot at 0x7fcd55787748>"
      ]
     },
     "execution_count": 72,
     "metadata": {},
     "output_type": "execute_result"
    },
    {
     "data": {
      "image/png": "[encoded data removed]",
      "text/plain": [
       "<matplotlib.figure.Figure at 0x7fcd68f56cc0>"
      ]
     },
     "metadata": {},
     "output_type": "display_data"
    }
   ],
   "source": [
    "## Plot the distribution of OnScene_Time\n",
    "## Ignore negative and time longer than 1 day\n",
    "table['OS_diff']=table['OnScene_Time']/pd.Timedelta(minutes=1,seconds=0)\n",
    "table1 = table.loc[table['OS_diff']>0.0].loc[table['OS_diff']<=1440]\n",
    "sns.distplot(table1['OS_diff'])"
   ]
  },
  {
   "cell_type": "code",
   "execution_count": 61,
   "metadata": {
    "collapsed": false
   },
   "outputs": [
    {
     "data": {
      "image/png": "[encoded data removed]",
      "text/plain": [
       "<matplotlib.figure.Figure at 0x7fcd687e4b00>"
      ]
     },
     "metadata": {},
     "output_type": "display_data"
    }
   ],
   "source": [
    "## Most of OnScene_time is shorter than 200 mins\n",
    "## Calculate mean of OnScene_time groupby \"year\" and \"fma\"(fire management area)\n",
    "## Boxplot the means of \"fma\" cross different \"year\"\n",
    "table2 = table.loc[table['OS_diff']>=1.0].loc[table['OS_diff']<=200.0].loc[table['year']<2017].copy()\n",
    "avg_OS = table2.groupby(['year','fmarespcomp'])['OS_diff'].mean().rename('mean').reset_index()\n",
    "avg_OS = pd.DataFrame(avg_OS)\n",
    "ax3 = sns.boxplot(x=\"year\", y=\"mean\", data=avg_OS)"
   ]
  },
  {
   "cell_type": "code",
   "execution_count": 70,
   "metadata": {
    "collapsed": false
   },
   "outputs": [
    {
     "data": {
      "text/plain": [
       "(array([ 0,  1,  2,  3,  4,  5,  6,  7,  8,  9, 10, 11, 12, 13, 14, 15, 16,\n",
       "        17, 18, 19, 20, 21, 22, 23, 24, 25, 26, 27, 28, 29, 30, 31, 32, 33,\n",
       "        34, 35, 36, 37, 38, 39, 40, 41, 42, 43, 44, 45, 46, 47, 48, 49, 50,\n",
       "        51, 52, 53]), <a list of 54 Text xticklabel objects>)"
      ]
     },
     "execution_count": 70,
     "metadata": {},
     "output_type": "execute_result"
    },
    {
     "data": {
      "image/png": "[encoded data removed]",
      "text/plain": [
       "<matplotlib.figure.Figure at 0x7fcd5636cda0>"
      ]
     },
     "metadata": {},
     "output_type": "display_data"
    }
   ],
   "source": [
    "## Boxplot the means of \"year\" cross different \"fma\"\n",
    "ax4 = sns.boxplot(x=\"fmarespcomp\", y=\"mean\", data=avg_OS)\n",
    "plt.xticks(rotation=60)"
   ]
  },
  {
   "cell_type": "code",
   "execution_count": 74,
   "metadata": {
    "collapsed": false
   },
   "outputs": [
    {
     "data": {
      "text/plain": [
       "30.437887225886698"
      ]
     },
     "execution_count": 74,
     "metadata": {},
     "output_type": "execute_result"
    }
   ],
   "source": [
    "avg_OS_overYears = avg_OS['mean'].mean()\n",
    "avg_OS_overYears"
   ]
  },
  {
   "cell_type": "code",
   "execution_count": 78,
   "metadata": {
    "collapsed": false
   },
   "outputs": [
    {
     "data": {
      "text/plain": [
       "year    2010.00000\n",
       "mean      30.86639\n",
       "dtype: float64"
      ]
     },
     "execution_count": 78,
     "metadata": {},
     "output_type": "execute_result"
    }
   ],
   "source": [
    "avg_OS_2010 = avg_OS.loc[avg_OS['year']== 2010.0].mean()\n",
    "avg_OS_2010"
   ]
  },
  {
   "cell_type": "code",
   "execution_count": 79,
   "metadata": {
    "collapsed": false
   },
   "outputs": [
    {
     "data": {
      "text/plain": [
       "year    2016.000000\n",
       "mean      27.719958\n",
       "dtype: float64"
      ]
     },
     "execution_count": 79,
     "metadata": {},
     "output_type": "execute_result"
    }
   ],
   "source": [
    "avg_OS_2016 = avg_OS.loc[avg_OS['year']== 2016.0].mean()\n",
    "avg_OS_2016"
   ]
  },
  {
   "cell_type": "markdown",
   "metadata": {
    "collapsed": true
   },
   "source": [
    "## Conclusion\n",
    "__ Average Response_Time is 6.92 min, and average OnScene_Time is 30.44 min. The average OnScene_Time decreased from 30.87 min in 2010 to 27.72 min in 2016. __ \n"
   ]
  },
  {
   "cell_type": "code",
   "execution_count": null,
   "metadata": {
    "collapsed": true
   },
   "outputs": [],
   "source": []
  }
 ],
 "metadata": {
  "kernelspec": {
   "display_name": "Python 3",
   "language": "python",
   "name": "python3"
  },
  "language_info": {
   "codemirror_mode": {
    "name": "ipython",
    "version": 3
   },
   "file_extension": ".py",
   "mimetype": "text/x-python",
   "name": "python",
   "nbconvert_exporter": "python",
   "pygments_lexer": "ipython3",
   "version": "3.5.2"
  }
 },
 "nbformat": 4,
 "nbformat_minor": 2
}
